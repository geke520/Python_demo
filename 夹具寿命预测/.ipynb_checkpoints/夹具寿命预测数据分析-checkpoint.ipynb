{
 "cells": [
  {
   "cell_type": "markdown",
   "metadata": {},
   "source": [
    "# 夹具寿命数据分析"
   ]
  },
  {
   "cell_type": "markdown",
   "metadata": {},
   "source": [
    "### 数据清洗\n",
    "我们将已有的模拟数据进行清洗\n",
    "* 原始数据\n",
    "![image](images\\原始模拟数据.jpg)\n",
    "  1. 去除使用次数较小的夹具数据，通过对数据的观察，发现部分夹具使用次数较少还未报废，所以我们将使用次数的区间下限设定为20次，即删除夹具使用次数在20次以下的数据。\n",
    "  2. 删除无报废日期记录的夹具信息。\n",
    "\n",
    "### 数据处理\n",
    "* 由已知的入库登记日期以及报废日期，计算出每个夹具的生命周期（生命周期=报废日期-入库登记日期），设计以下夹具生命周\n",
    "\n",
    "以上两个模块具体实现过程如下："
   ]
  },
  {
   "cell_type": "code",
   "execution_count": 2,
   "metadata": {
    "scrolled": true
   },
   "outputs": [
    {
     "name": "stdout",
     "output_type": "stream",
     "text": [
      "(请输入文件名，不包含文件扩展名，就是不用加.xlsx) : 夹具相关数据\n",
      "[1529, 1320, 1660, 1583, 2033, 1541, 1575, 1459, 1821, 1758, 1959, 2089]\n",
      "筛选完成\n",
      "输出文件为： 夹具相关数据_delete.xlsx\n"
     ]
    }
   ],
   "source": [
    "import pandas as pd\n",
    "\n",
    "def loadfilepd(filename):\n",
    "    df = pd.read_excel(filename)\n",
    "    entity_id = df['EntityID']#选择标签，也就是表格对应列的第一行元素\n",
    "    code=df['Code']\n",
    "    used_count = df['UsedCount'] \n",
    "    reg_date = df['RegDate']\n",
    "    scrap_date = df['ScrDate']\n",
    "    life_cycle=df['LifeCycle']\n",
    "    repairs=df['Repairs']\n",
    "    \n",
    "    return entity_id,code,used_count,reg_date,scrap_date,life_cycle,repairs\n",
    "\n",
    "#opened_file = open('夹具相关数据.xlsx')\n",
    "#from xlsx import reader\n",
    "#print(\"请将文件和代码放在一个文件夹中\")\n",
    "name = input(\"(请输入文件名，不包含文件扩展名，就是不用加.xlsx) : \")#数据文件和代码块在一个文件夹中\n",
    "read_file = name + \".xlsx\"\n",
    "entity_id,code,used_count,reg_date,scrap_date,life_cycle,repairs=loadfilepd(read_file)\n",
    "#read_file = reader(opened_file)\n",
    "\n",
    "newentity_id=[]\n",
    "newused_count = []\n",
    "newscrap_date =[]\n",
    "newcode=[]\n",
    "newreg_date=[]\n",
    "newlife_cycle=[]\n",
    "newrepairs=[]\n",
    "\n",
    "for num in range(len(entity_id)):\n",
    "    if scrap_date[num] !='' and used_count[num] >= 50:\n",
    "        newentity_id.append(entity_id[num])\n",
    "        newused_count.append(used_count[num])\n",
    "        newscrap_date.append(scrap_date[num])\n",
    "        newcode.append(code[num])\n",
    "        newreg_date.append(reg_date[num])\n",
    "        newrepairs.append(repairs[num])\n",
    "        newlife_cycle.append((scrap_date[num]-reg_date[num]).days)\n",
    "print(newlife_cycle)\n",
    "\n",
    "goodlist=[newentity_id,newcode,newused_count,newreg_date,newscrap_date,newlife_cycle,newrepairs]\n",
    "\n",
    "dfr = pd.DataFrame(goodlist)\n",
    "dfr = pd.DataFrame(dfr.values.T,index=dfr.columns,columns=dfr.index)\n",
    "\n",
    "dfr.columns = [\"newentity_id\",\"newcode\",\"newused_count\",\"newreg_date\",\"newscrap_date\",\"newlife_cycle\",\"newrepairs\"]\n",
    "outputfilename = name+\"_delete.xlsx\"\n",
    "dfr.to_excel(outputfilename)\n",
    "\n",
    "print('筛选完成')\n",
    "print('输出文件为：',outputfilename)"
   ]
  },
  {
   "cell_type": "markdown",
   "metadata": {},
   "source": [
    "* 筛选后数据\n",
    "![image](images\\处理后数据.jpg)\n",
    "\n",
    "* 用SPSS显示数据之间的趋势\n",
    "![image](images\\数据关系.jpg)"
   ]
  },
  {
   "cell_type": "markdown",
   "metadata": {},
   "source": [
    "上表中增加了夹具的生命周期newlife__cycle，这一步的计算更便于寿命的预测，也是系统全寿命的一个呼应。"
   ]
  },
  {
   "cell_type": "markdown",
   "metadata": {},
   "source": [
    "### 变量相关性分析\n",
    "所需处理的数据如上图。根据判断我们假定夹具的使用次数与生命周期，已报废的夹具使用次数与报修次数、夹具的生命周期与报修次数之间可能存在正相关性,接下来我们将通过计算去判断三者相互的关系。\n",
    "#### 期望\n",
    "在进行相关性分析之前，我们需要先为最终的计算分析做好准备。我们在分析前，第一个准备的是计算数据的期望。对于期望的定义，离散变量和连续变量是不一样的，具体定义如下：\n",
    "* 对于连续随机变量\n",
    "\\begin{equation}\n",
    "E(X)=\\int_\\Omega{X}\\,{\\rm d}P\n",
    "\\end{equation}\n",
    "* 在离散随机变量\n",
    "\\begin{equation}\n",
    "E(X)=\\sum_i{p_ix_i}\n",
    "\\end{equation}\n",
    "在一般情况下，我们通过实验或者调查统计获取的数据很大一部分都属于离散随机变量，那么这里的期望我们也可以简单的理解为平均数，那么既然是平均数，那么我们就可以非常简单编写一个计算离散变量的期望的函数了。\n",
    "#### 协方差\n",
    "从数值来看，协方差的数值越大，两个变量同向程度也就越大。反之亦然。\n",
    "\\begin{equation}\n",
    "Cov(X,Y)=E[(X-E[X])(Y-E(Y)]=E[XY]-2E[Y]E[X]+E[X]E[Y]=E[XY]-E[X]E[Y]\n",
    "\\end{equation}\n",
    "#### 相关系数\n",
    "1) 也可以反映两个变量变化时是同向还是反向，如果同向变化就为正，反向变化就为负。\n",
    "2) 由于它是标准化后的协方差，因此更重要的特性来了：它消除了两个变量变化幅度的影响，而只是单纯反应两个变量每单位变化时的相似程度。 \n",
    "\\begin{equation}\n",
    "r(X,Y)=\\frac{Cov(X,Y)}{\\sqrt{Var[X]Var[Y]}}\n",
    "\\end{equation}"
   ]
  },
  {
   "cell_type": "code",
   "execution_count": 3,
   "metadata": {},
   "outputs": [
    {
     "name": "stdout",
     "output_type": "stream",
     "text": [
      "所有夹具平均使用次数 156.41666666666666\n",
      "所有夹具平均生命周期 1693.9166666666667\n",
      "所有夹具平均报修次数 3.75\n"
     ]
    }
   ],
   "source": [
    "def mean(x):\n",
    "  return sum(x) / len(x)\n",
    "print(\"所有夹具平均使用次数\",mean(newused_count))\n",
    "print(\"所有夹具平均生命周期\",mean(newlife_cycle))\n",
    "print(\"所有夹具平均报修次数\",mean(newrepairs))"
   ]
  },
  {
   "cell_type": "code",
   "execution_count": 4,
   "metadata": {},
   "outputs": [
    {
     "name": "stdout",
     "output_type": "stream",
     "text": [
      "使用次数与维修次数:\n",
      "协方差 35.11363636363637\n",
      "相关系数 0.9776421956720697\n",
      "使用次数与生命周期:\n",
      "协方差 5268.492424242424\n",
      "相关系数 0.7865278384742413\n",
      "维修次数与生命周期:\n",
      "协方差 238.15909090909088\n",
      "相关系数 0.769698408524993\n"
     ]
    }
   ],
   "source": [
    "import pandas as pd\n",
    "import numpy as np\n",
    "\n",
    "def matrix(x,y):\n",
    "    # 构造一个矩阵\n",
    "    m = np.array([x,y])\n",
    "    # 使用 DataFrame 作为数据结构，为方便计算，我们会将 两个 矩阵转置\n",
    "    dfm = pd.DataFrame(m.T, columns=['A', 'B'])\n",
    "    # 协方差\n",
    "    print(\"协方差\",dfm.A.cov(dfm.B))\n",
    "    # 相关系数\n",
    "    print(\"相关系数\",dfm.A.corr(dfm.B))\n",
    "    return dfm.A.corr(dfm.B)\n",
    "\n",
    "print('使用次数与维修次数:')\n",
    "a=matrix(newused_count,newrepairs)\n",
    "print('使用次数与生命周期:')\n",
    "b=matrix(newused_count,newlife_cycle)\n",
    "print('维修次数与生命周期:')\n",
    "c=matrix(newrepairs,newlife_cycle)"
   ]
  },
  {
   "cell_type": "code",
   "execution_count": 6,
   "metadata": {},
   "outputs": [
    {
     "data": {
      "image/png": "[encoded data removed]",
      "text/plain": [
       "<Figure size 432x288 with 1 Axes>"
      ]
     },
     "metadata": {
      "needs_background": "light"
     },
     "output_type": "display_data"
    },
    {
     "data": {
      "image/png": "[encoded data removed]",
      "text/plain": [
       "<Figure size 432x288 with 1 Axes>"
      ]
     },
     "metadata": {
      "needs_background": "light"
     },
     "output_type": "display_data"
    },
    {
     "data": {
      "image/png": "[encoded data removed]",
      "text/plain": [
       "<Figure size 432x288 with 1 Axes>"
      ]
     },
     "metadata": {
      "needs_background": "light"
     },
     "output_type": "display_data"
    }
   ],
   "source": [
    "from matplotlib import pyplot\n",
    "#绘制散点图\n",
    "\n",
    "pyplot.scatter(newused_count,newrepairs)\n",
    "pyplot.xlabel('newused_count')\n",
    "pyplot.ylabel('newrepairs')\n",
    "pyplot.title('newused_count & newrepairs')\n",
    "pyplot.show()\n",
    "\n",
    "pyplot.scatter(newused_count,newlife_cycle)\n",
    "pyplot.xlabel('newused_count')\n",
    "pyplot.ylabel('newlife_cycle')\n",
    "pyplot.title('newused_count & newlife_cycle')\n",
    "pyplot.show()\n",
    "\n",
    "pyplot.scatter(newrepairs,newlife_cycle)\n",
    "pyplot.xlabel('newrepairs')\n",
    "pyplot.ylabel('newlife_cycle')\n",
    "pyplot.title('newrepairs & newlife_cycle')\n",
    "pyplot.show()"
   ]
  },
  {
   "cell_type": "code",
   "execution_count": 7,
   "metadata": {},
   "outputs": [],
   "source": [
    "import numpy as np\n",
    "import matplotlib.pyplot as plt\n",
    "from mpl_toolkits.mplot3d import Axes3D\n",
    "\n",
    "if a>0.85 and b>0.85 and c>0.85:\n",
    "    x_data = []\n",
    "    for num in range(len(newused_count)):\n",
    "        x_data.append([newused_count[num],newrepairs[num]])\n",
    "    x_data = np.array(x_data)\n",
    "    y_data = np.array(newlife_cycle)\n",
    "    print(x_data)\n",
    "    print(y_data)\n",
    "    ax = plt.figure().add_subplot(111, projection = \"3d\")\n",
    "    ax.scatter(x_data[:, 0], x_data[:, 1], y_data, c = \"b\", marker = 'o', s = 10)\n",
    "    ax.set_xlabel(\"factors\")\n",
    "    ax.set_ylabel(\"newlife_cycle\")\n",
    "    plt.show()"
   ]
  },
  {
   "cell_type": "code",
   "execution_count": 20,
   "metadata": {
    "scrolled": true
   },
   "outputs": [
    {
     "name": "stdout",
     "output_type": "stream",
     "text": [
      "请输入要预测的数据的使用次数：145\n",
      "预测可使用（天）: 993.3300754215394\n"
     ]
    }
   ],
   "source": [
    "import numpy as np\n",
    "def fit(x,y):\n",
    "    dinominator=0\n",
    "    numerator=0\n",
    "    for i in range(len(x)):\n",
    "        numerator+=(x[i] - np.mean(x))*(y[i] - np.mean(y))\n",
    "        dinominator += (x[i] - np.mean(x))**2\n",
    "    b1=numerator/float(dinominator)\n",
    "    b0=np.mean(y)/float(np.mean(x))\n",
    "    return b0, b1\n",
    "def predict(x, b0, b1):\n",
    "    return b0 + x*b1\n",
    "if a>0.85:\n",
    "    b0, b1=fit(newused_count,newlife_cycle)\n",
    "    x_test = input(\"请输入要预测的数据的使用次数：\")\n",
    "    x=int(x_test)\n",
    "    y = predict(x, b0, b1)\n",
    "    print(\"预测可使用（天）:\", y)\n",
    "    d=y"
   ]
  },
  {
   "cell_type": "code",
   "execution_count": 21,
   "metadata": {},
   "outputs": [],
   "source": [
    "import numpy as np\n",
    "def fit(x,y):\n",
    "    dinominator=0\n",
    "    numerator=0\n",
    "    for i in range(len(x)):\n",
    "        numerator+=(x[i] - np.mean(x))*(y[i] - np.mean(y))\n",
    "        dinominator += (x[i] - np.mean(x))**2\n",
    "    b1=numerator/float(dinominator)\n",
    "    b0=np.mean(y)/float(np.mean(x))\n",
    "    return b0, b1\n",
    "def predict(x, b0, b1):\n",
    "    return b0 + x*b1\n",
    "if b>0.85:\n",
    "    b0, b1=fit(newrepairs,newlife_cycle)\n",
    "    x_test = input(\"请输入要预测的数据的报修次数：\")\n",
    "    x=int(x_test)\n",
    "    y = predict(x, b0, b1)\n",
    "    print(\"预测可使用（天）:\", y)\n",
    "    d=y"
   ]
  },
  {
   "cell_type": "code",
   "execution_count": 22,
   "metadata": {
    "scrolled": true
   },
   "outputs": [
    {
     "name": "stdout",
     "output_type": "stream",
     "text": [
      "[[  14.56657626]\n",
      " [-156.74239968]]\n"
     ]
    }
   ],
   "source": [
    "from numpy import dot\n",
    "from numpy.linalg import inv\n",
    "from numpy import mat\n",
    "def least_squares(x, y):\n",
    "    #最小二乘法\n",
    "    theta = dot(dot(inv(dot(x.T, x)), x.T), y)\n",
    "    return theta\n",
    "x=[]\n",
    "y=[]\n",
    "for num in range(len(newused_count)):\n",
    "    x.append([newused_count[num],newrepairs[num]])\n",
    "    y.append([newlife_cycle[num]])\n",
    "x = mat(x)\n",
    "y = mat(y)\n",
    "print(least_squares(x, y))"
   ]
  },
  {
   "cell_type": "code",
   "execution_count": 23,
   "metadata": {},
   "outputs": [],
   "source": [
    "if a>0.85 and b>0.85 and c>0.85:\n",
    "    an=least_squares(x, y)\n",
    "    new_numbers = []\n",
    "    for n in an:\n",
    "        new_numbers.append(float(n))\n",
    "    a=new_numbers\n",
    "    print(a)\n",
    "    x1 = input(\"请输入要预测的数据的使用次数：\")\n",
    "    x1 = int(x1)\n",
    "    x2 = input(\"请输入要预测的数据的报修次数：\")\n",
    "    x2 = int(x2)\n",
    "    y=round( x1*a[0]+ x2*a[1])\n",
    "    print(\"预测可使用（天）:\",y)\n",
    "    d=y"
   ]
  },
  {
   "cell_type": "code",
   "execution_count": 24,
   "metadata": {},
   "outputs": [
    {
     "name": "stdout",
     "output_type": "stream",
     "text": [
      "2022-12-27\n"
     ]
    }
   ],
   "source": [
    "import datetime\n",
    "now = datetime.datetime.now()\n",
    "date = now + datetime.timedelta(days = d)\n",
    "print(date.strftime('%Y-%m-%d'))   "
   ]
  },
  {
   "cell_type": "code",
   "execution_count": null,
   "metadata": {},
   "outputs": [],
   "source": []
  }
 ],
 "metadata": {
  "kernelspec": {
   "display_name": "Python 3",
   "language": "python",
   "name": "python3"
  },
  "language_info": {
   "codemirror_mode": {
    "name": "ipython",
    "version": 3
   },
   "file_extension": ".py",
   "mimetype": "text/x-python",
   "name": "python",
   "nbconvert_exporter": "python",
   "pygments_lexer": "ipython3",
   "version": "3.7.4"
  }
 },
 "nbformat": 4,
 "nbformat_minor": 2
}
